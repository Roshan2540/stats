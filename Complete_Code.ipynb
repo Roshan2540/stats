{
  "nbformat": 4,
  "nbformat_minor": 0,
  "metadata": {
    "colab": {
      "provenance": [],
      "include_colab_link": true
    },
    "kernelspec": {
      "name": "python3",
      "display_name": "Python 3"
    },
    "language_info": {
      "name": "python"
    }
  },
  "cells": [
    {
      "cell_type": "markdown",
      "metadata": {
        "id": "view-in-github",
        "colab_type": "text"
      },
      "source": [
        "<a href=\"https://colab.research.google.com/github/Roshan2540/stats/blob/master/Complete_Code.ipynb\" target=\"_parent\"><img src=\"https://colab.research.google.com/assets/colab-badge.svg\" alt=\"Open In Colab\"/></a>"
      ]
    },
    {
      "cell_type": "markdown",
      "source": [
        "# Generating sample based on conditional distributions"
      ],
      "metadata": {
        "id": "jQFYIHWjnGPW"
      }
    },
    {
      "cell_type": "markdown",
      "source": [
        "## Description"
      ],
      "metadata": {
        "id": "xgjT9HXuihko"
      }
    },
    {
      "cell_type": "markdown",
      "source": [
        "Given a mass function $l$ and a stochastic matrix $P=[p_{ij}]$,\n",
        "\n",
        "generate samples of $(X,Y)$ such that\n",
        "$$\n",
        "X\\sim l\n",
        "$$\n",
        "and\n",
        "$$\n",
        "\\mathbb P(Y=j\\mid X=i)=p_{ij}\n",
        "$$\n",
        "In other words,\n",
        "$$\n",
        "Y|(X=i) \\sim P_i\n",
        "$$\n",
        "where $P_i=[p_{ij}]_j$ is the $i$th row of $P$."
      ],
      "metadata": {
        "id": "DQPjDCBfikwE"
      }
    },
    {
      "cell_type": "markdown",
      "source": [
        "### Example\n"
      ],
      "metadata": {
        "id": "NBTNiFLSjI-e"
      }
    },
    {
      "cell_type": "markdown",
      "source": [
        "Given\n",
        "$$ P= \\left[\\begin{array}{cc}\n",
        "          0.5 & 0.5\\\\\n",
        "          0.4 & 0.6\n",
        "        \\end{array} \\right]\n",
        "$$\n",
        "If $X=0$, then\n",
        "$$\n",
        "Y\\sim [0.5\\quad 0.5].\n",
        "$$\n",
        "\n",
        "If $X=1$, then\n",
        "$$\n",
        "Y\\sim [0.4\\quad 0.6].\n",
        "$$"
      ],
      "metadata": {
        "id": "R8jyDEg5lXQa"
      }
    },
    {
      "cell_type": "markdown",
      "source": [
        "## Complete Code"
      ],
      "metadata": {
        "id": "CecTgi6dTOi0"
      }
    },
    {
      "cell_type": "markdown",
      "source": [
        "For those who simply want to look at the code, here is the complete code for this worksheet."
      ],
      "metadata": {
        "id": "DijKkFqpTSCf"
      }
    },
    {
      "cell_type": "code",
      "source": [
        "from numpy.random import choice\n",
        "\n",
        "P=[[0.5,0.5],[0.4,0.6]]\n",
        "l=[0.3,0.7]\n",
        "\n",
        "n=10\n",
        "\n",
        "k=len(l)\n",
        "I=[x for x in range(k)]\n",
        "\n",
        "def rv(x):\n",
        "  m = P[x]\n",
        "  y = choice(I,1,p=m)[0]\n",
        "  return y\n",
        "\n",
        "def rvs(xs):\n",
        "  ms = [P[x] for x in xs]\n",
        "  ys = [choice(I,1,p=m)[0] for m in ms]\n",
        "  return ys\n",
        "\n",
        "# Output\n",
        "xs = choice(I,n,p=l)\n",
        "\n",
        "## If you want X and Y as separated arrays, set the sample like this\n",
        "sample = [xs,rvs(xs)]\n",
        "\n",
        "## If you want samples as the array of (X,Y), set the sample like this\n",
        "sample = [(x,rv(x)) for x in xs]"
      ],
      "metadata": {
        "id": "utiSHYu0XNuv"
      },
      "execution_count": null,
      "outputs": []
    },
    {
      "cell_type": "markdown",
      "source": [
        "## Playground"
      ],
      "metadata": {
        "id": "UDnY3Ui3WaTA"
      }
    },
    {
      "cell_type": "markdown",
      "source": [
        "Prefix the last line of the previous code block with `#` if you want to see the alternative result."
      ],
      "metadata": {
        "id": "-RyV3s8LobYz"
      }
    },
    {
      "cell_type": "code",
      "source": [
        "sample"
      ],
      "metadata": {
        "id": "LaTFUt0_oQj-"
      },
      "execution_count": null,
      "outputs": []
    }
  ]
}