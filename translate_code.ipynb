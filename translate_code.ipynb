{
  "nbformat": 4,
  "nbformat_minor": 0,
  "metadata": {
    "colab": {
      "provenance": [],
      "authorship_tag": "ABX9TyNrIAQKb4c3s+YyvstAUiEk",
      "include_colab_link": true
    },
    "kernelspec": {
      "name": "python3",
      "display_name": "Python 3"
    },
    "language_info": {
      "name": "python"
    }
  },
  "cells": [
    {
      "cell_type": "markdown",
      "metadata": {
        "id": "view-in-github",
        "colab_type": "text"
      },
      "source": [
        "<a href=\"https://colab.research.google.com/github/Roshan2540/stats/blob/master/translate_code.ipynb\" target=\"_parent\"><img src=\"https://colab.research.google.com/assets/colab-badge.svg\" alt=\"Open In Colab\"/></a>"
      ]
    },
    {
      "cell_type": "code",
      "execution_count": 1,
      "metadata": {
        "id": "4TN8r3CXswPo"
      },
      "outputs": [],
      "source": [
        "import numpy as np\n",
        "\n",
        "def checkconstraints(A, b, x0, m, q, n):\n",
        "    tol = 1.e-8\n",
        "    infeas = []  # Initialize infeas\n",
        "\n",
        "    if m > 0:  # inequality constraints, if any\n",
        "        infeas = np.where(A[:m, :] @ x0 - b[:m] > tol)[0]\n",
        "\n",
        "    if q > 0 and (m + q) <= len(b):  # equality constraints, if any and within bounds\n",
        "        infeas = np.append(infeas, np.where(np.abs(A[m:m+q, :] @ x0 - b[m:m+q]) > tol)[0] + m)\n",
        "\n",
        "    if len(infeas) > 0:\n",
        "        print('The following constraints are infeasible:')\n",
        "        print(infeas)\n",
        "        input('Press Enter to continue...')"
      ]
    },
    {
      "cell_type": "code",
      "source": [
        "import numpy as np\n",
        "\n",
        "def checkdata(Sigma, tol):\n",
        "    if np.linalg.norm(Sigma - Sigma.T) > tol:\n",
        "        print('Error: covariance matrix is not symmetric')\n",
        "        input('Press Enter to continue...')\n",
        "        return\n",
        "    if np.min(np.linalg.eigvals(Sigma)) < tol:\n",
        "        print('Error: covariance matrix is not positive definite')\n",
        "        input('Press Enter to continue...')\n",
        "        return"
      ],
      "metadata": {
        "id": "FqW2hRSptL8P"
      },
      "execution_count": 2,
      "outputs": []
    },
    {
      "cell_type": "code",
      "source": [
        "import numpy as np\n",
        "\n",
        "# Number of variables\n",
        "n = 5\n",
        "\n",
        "# Number of constraints\n",
        "m = 1\n",
        "\n",
        "# Cost vector\n",
        "c = np.array([-2, -4, -6, -8, -10])\n",
        "\n",
        "# Matrix BigC\n",
        "BigC = np.diag([2, 2, 2, 2, 2])\n",
        "\n",
        "# Constraint matrix A\n",
        "A = np.array([[1, 1, 2, 2, 4]])\n",
        "\n",
        "# Right-hand side vector b\n",
        "b = np.array([3])\n",
        "\n",
        "# Check data (assuming checkdata is a defined function)\n",
        "checkdata(BigC, 1.e-6)\n",
        "\n",
        "# Construct the matrix H\n",
        "H = np.vstack([np.hstack([BigC, A.T]), np.hstack([A, np.zeros((m, m))])])\n",
        "\n",
        "# Construct the right-hand side vector rhs\n",
        "rhs = np.hstack([-c, b])\n",
        "\n",
        "# Solve Hy = rhs\n",
        "y = np.linalg.solve(H, rhs)  # Use numpy's solve function for linear systems\n",
        "\n",
        "# Extract the optimal solution x\n",
        "x = y[:n]\n",
        "\n",
        "# Extract the multipliers u\n",
        "u = y[n:n+m]\n",
        "\n",
        "# Display the results\n",
        "print('Optimal solution x:')\n",
        "print(x)\n",
        "\n",
        "print('Multipliers u:')\n",
        "print(u)"
      ],
      "metadata": {
        "colab": {
          "base_uri": "https://localhost:8080/"
        },
        "id": "AJYdMJIBtRMp",
        "outputId": "f4950a66-9230-4ce0-945d-3f9f81c8c510"
      },
      "execution_count": 3,
      "outputs": [
        {
          "output_type": "stream",
          "name": "stdout",
          "text": [
            "Optimal solution x:\n",
            "[-0.30769231  0.69230769  0.38461538  1.38461538 -0.23076923]\n",
            "Multipliers u:\n",
            "[2.61538462]\n"
          ]
        }
      ]
    }
  ]
}